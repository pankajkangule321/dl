{
 "cells": [
  {
   "cell_type": "code",
   "execution_count": 28,
   "id": "ceb4009e",
   "metadata": {},
   "outputs": [],
   "source": [
    "import pandas as pd\n",
    "import numpy as np\n",
    "import matplotlib as mpl\n",
    "import matplotlib.pyplot as plt\n",
    "import matplotlib.pylab as pylab\n",
    "import tensorflow as tf \n",
    "from tensorflow import keras"
   ]
  },
  {
   "cell_type": "code",
   "execution_count": 29,
   "id": "a1d3e55c",
   "metadata": {},
   "outputs": [],
   "source": [
    "mnist=keras.datasets.mnist\n",
    "((xte,yte),(xtr,ytr))=mnist.load_data()"
   ]
  },
  {
   "cell_type": "code",
   "execution_count": 30,
   "id": "26bfd0e0",
   "metadata": {},
   "outputs": [],
   "source": [
    "xtr=xtr/255\n",
    "xte=xte/255\n",
    "xtr=xtr.reshape(-1,28,28,1)\n",
    "xte=xte.reshape(-1,28,28,1)"
   ]
  },
  {
   "cell_type": "code",
   "execution_count": 36,
   "id": "ecad1829",
   "metadata": {},
   "outputs": [
    {
     "data": {
      "image/png": "[encoded data removed]",
      "text/plain": [
       "<Figure size 640x480 with 5 Axes>"
      ]
     },
     "metadata": {},
     "output_type": "display_data"
    }
   ],
   "source": [
    "for i in range (5):\n",
    "    plt.subplot(1,5,i+1)\n",
    "    plt.imshow(xtr[i] ,cmap='gray')\n",
    "plt.show()"
   ]
  },
  {
   "cell_type": "code",
   "execution_count": 10,
   "id": "2d8887b7",
   "metadata": {},
   "outputs": [],
   "source": [
    "model=keras.Sequential([\n",
    "    \n",
    "    keras.layers.Conv2D(32,(3,3), activation='relu'),#no of filters,kernel size\n",
    "    keras.layers.MaxPooling2D(2,2),\n",
    "    keras.layers.Conv2D(64,(3,3), activation='relu'),\n",
    "    keras.layers.MaxPooling2D(2,2),\n",
    "     keras.layers.Conv2D(128,(3,3), activation='relu'),\n",
    "    keras.layers.MaxPooling2D(2,2),\n",
    "    keras.layers.Dropout(0.2),\n",
    "    keras.layers.Flatten(),\n",
    "    keras.layers.Dense(100,activation='relu'),\n",
    "    keras.layers.Dense(10,activation='softmax')\n",
    "    \n",
    "    \n",
    "])"
   ]
  },
  {
   "cell_type": "code",
   "execution_count": 37,
   "id": "6b87c46d",
   "metadata": {},
   "outputs": [],
   "source": [
    "model.compile(\n",
    "optimizer='adam',\n",
    "    loss='sparse_categorical_crossentropy',\n",
    "    metrics=['accuracy']\n",
    ")"
   ]
  },
  {
   "cell_type": "code",
   "execution_count": 38,
   "id": "6b06d8c2",
   "metadata": {},
   "outputs": [
    {
     "name": "stdout",
     "output_type": "stream",
     "text": [
      "Epoch 1/5\n",
      "310/313 [============================>.] - ETA: 0s - loss: 0.0725 - accuracy: 0.9774"
     ]
    },
    {
     "name": "stderr",
     "output_type": "stream",
     "text": [
      "2023-11-09 03:55:34.125912: W tensorflow/tsl/framework/cpu_allocator_impl.cc:83] Allocation of 188160000 exceeds 10% of free system memory.\n"
     ]
    },
    {
     "name": "stdout",
     "output_type": "stream",
     "text": [
      "313/313 [==============================] - 11s 31ms/step - loss: 0.0722 - accuracy: 0.9774 - val_loss: 0.1215 - val_accuracy: 0.9647\n",
      "Epoch 2/5\n",
      "313/313 [==============================] - 9s 30ms/step - loss: 0.0572 - accuracy: 0.9822 - val_loss: 0.1086 - val_accuracy: 0.9703\n",
      "Epoch 3/5\n",
      "313/313 [==============================] - 10s 32ms/step - loss: 0.0416 - accuracy: 0.9865 - val_loss: 0.0953 - val_accuracy: 0.9734\n",
      "Epoch 4/5\n",
      "313/313 [==============================] - 10s 32ms/step - loss: 0.0385 - accuracy: 0.9876 - val_loss: 0.0948 - val_accuracy: 0.9738\n",
      "Epoch 5/5\n",
      "313/313 [==============================] - 10s 32ms/step - loss: 0.0321 - accuracy: 0.9901 - val_loss: 0.0945 - val_accuracy: 0.9738\n"
     ]
    }
   ],
   "source": [
    "history=model.fit(xtr,ytr,epochs=5,validation_data=(xte,yte))"
   ]
  },
  {
   "cell_type": "code",
   "execution_count": 18,
   "id": "b58610c8",
   "metadata": {},
   "outputs": [
    {
     "name": "stdout",
     "output_type": "stream",
     "text": [
      "  48/1875 [..............................] - ETA: 6s - loss: 0.1583 - accuracy: 0.9616"
     ]
    },
    {
     "name": "stderr",
     "output_type": "stream",
     "text": [
      "2023-11-09 03:46:56.267603: W tensorflow/tsl/framework/cpu_allocator_impl.cc:83] Allocation of 188160000 exceeds 10% of free system memory.\n"
     ]
    },
    {
     "name": "stdout",
     "output_type": "stream",
     "text": [
      "1875/1875 [==============================] - 6s 3ms/step - loss: 0.1150 - accuracy: 0.9668\n"
     ]
    }
   ],
   "source": [
    "accuracy,loss=model.evaluate(xte,yte)"
   ]
  },
  {
   "cell_type": "code",
   "execution_count": 26,
   "id": "aa02c176",
   "metadata": {},
   "outputs": [
    {
     "name": "stdout",
     "output_type": "stream",
     "text": [
      "96.68166637420654\n"
     ]
    }
   ],
   "source": [
    "print(loss)\n"
   ]
  },
  {
   "cell_type": "code",
   "execution_count": 25,
   "id": "f7bffe59",
   "metadata": {},
   "outputs": [
    {
     "name": "stdout",
     "output_type": "stream",
     "text": [
      "0.11502744257450104\n"
     ]
    }
   ],
   "source": [
    "print(accuracy)"
   ]
  },
  {
   "cell_type": "code",
   "execution_count": null,
   "id": "74c7bd3b",
   "metadata": {},
   "outputs": [],
   "source": []
  }
 ],
 "metadata": {
  "kernelspec": {
   "display_name": "Python 3 (ipykernel)",
   "language": "python",
   "name": "python3"
  },
  "language_info": {
   "codemirror_mode": {
    "name": "ipython",
    "version": 3
   },
   "file_extension": ".py",
   "mimetype": "text/x-python",
   "name": "python",
   "nbconvert_exporter": "python",
   "pygments_lexer": "ipython3",
   "version": "3.11.5"
  }
 },
 "nbformat": 4,
 "nbformat_minor": 5
}
